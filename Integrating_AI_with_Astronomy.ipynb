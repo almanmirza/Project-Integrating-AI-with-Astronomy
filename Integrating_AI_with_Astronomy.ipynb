{
  "nbformat": 4,
  "nbformat_minor": 0,
  "metadata": {
    "colab": {
      "provenance": [],
      "authorship_tag": "ABX9TyOEzuX18fVkHaBLXQCqhQ5t",
      "include_colab_link": true
    },
    "kernelspec": {
      "name": "python3",
      "display_name": "Python 3"
    },
    "language_info": {
      "name": "python"
    }
  },
  "cells": [
    {
      "cell_type": "markdown",
      "metadata": {
        "id": "view-in-github",
        "colab_type": "text"
      },
      "source": [
        "<a href=\"https://colab.research.google.com/github/almanmirza/Project-Integrating-AI-with-Astronomy/blob/main/Integrating_AI_with_Astronomy.ipynb\" target=\"_parent\"><img src=\"https://colab.research.google.com/assets/colab-badge.svg\" alt=\"Open In Colab\"/></a>"
      ]
    },
    {
      "cell_type": "markdown",
      "source": [
        "**Alman Ahmad**\n",
        "\n",
        "mughal.mirza129@gmail.com"
      ],
      "metadata": {
        "id": "rCj6eV92EAs8"
      }
    },
    {
      "cell_type": "markdown",
      "source": [
        "# **Integrating AI with Astronomy: Calculations and Insights Using LLM-Driven Tools**"
      ],
      "metadata": {
        "id": "HmGElGCUEWun"
      }
    },
    {
      "cell_type": "markdown",
      "source": [
        "### Introduction\n",
        "This code integrates advanced computational tools with a language model (LLM) to explore astronomy-related queries. It uses the `langchain-google-genai` package and the `gemini-1.5-flash` model to perform calculations and provide insights into celestial phenomena.\n",
        "\n",
        "### Background\n",
        "The script sets up tools to calculate critical astronomical metrics such as escape velocity, orbital period, star luminosity, and surface gravity. These calculations are based on well-known physical formulas, making the script applicable for educational or research purposes in astrophysics.\n",
        "\n",
        "### Findings\n",
        "The code demonstrates:\n",
        "1. Direct invocation of the LLM for general queries.\n",
        "2. Use of tools bound to the LLM for precise numerical computations.\n",
        "3. A seamless process of appending tool-based results to the conversation, enabling iterative and contextual outputs.\n",
        "\n",
        "### Final Output\n",
        "The final output showcases the combined capability of the LLM and tools to understand user queries, perform domain-specific calculations, and provide actionable insights into astronomical concepts. This setup highlights the potential for AI in aiding scientific exploration and problem-solving."
      ],
      "metadata": {
        "id": "byFW6IUBD6Lp"
      }
    },
    {
      "cell_type": "code",
      "source": [
        "# Install necessary Packages\n",
        "!pip install -Uq langchain-google-genai\n"
      ],
      "metadata": {
        "id": "5V6XP4x7CXHQ"
      },
      "execution_count": 13,
      "outputs": []
    },
    {
      "cell_type": "code",
      "source": [
        "# Setup API Key\n",
        "from google.colab import userdata\n",
        "GEMINI_API_KEY = userdata.get('google-api-key')\n"
      ],
      "metadata": {
        "id": "Xit4V4m8CnjS"
      },
      "execution_count": 14,
      "outputs": []
    },
    {
      "cell_type": "code",
      "source": [
        "# Select and configure Model\n",
        "from langchain_google_genai import ChatGoogleGenerativeAI\n",
        "\n",
        "llm = ChatGoogleGenerativeAI(\n",
        "    model=\"gemini-1.5-flash\",\n",
        "    api_key=userdata.get('google-api-key')\n",
        ")\n"
      ],
      "metadata": {
        "id": "JAvt2ycgCqo1"
      },
      "execution_count": 15,
      "outputs": []
    },
    {
      "cell_type": "code",
      "source": [
        "# Test if the model is configured correctly\n",
        "llm.invoke(\"Hello\")\n"
      ],
      "metadata": {
        "colab": {
          "base_uri": "https://localhost:8080/"
        },
        "id": "zqSceRWmCuja",
        "outputId": "923ec4dc-c70c-4a70-9601-a00eea03caf7"
      },
      "execution_count": 16,
      "outputs": [
        {
          "output_type": "execute_result",
          "data": {
            "text/plain": [
              "AIMessage(content='Hello there! How can I help you today?', additional_kwargs={}, response_metadata={'prompt_feedback': {'block_reason': 0, 'safety_ratings': []}, 'finish_reason': 'STOP', 'safety_ratings': []}, id='run-af7fd23a-c011-4881-8e98-634935500ceb-0', usage_metadata={'input_tokens': 2, 'output_tokens': 11, 'total_tokens': 13, 'input_token_details': {'cache_read': 0}})"
            ]
          },
          "metadata": {},
          "execution_count": 16
        }
      ]
    },
    {
      "cell_type": "code",
      "source": [
        "# Define Tools / Functions\n",
        "from langchain_core.tools import tool\n",
        "import math\n",
        "\n",
        "@tool\n",
        "def calculate_escape_velocity(mass: float, radius: float) -> float:\n",
        "    \"\"\"Calculate the escape velocity of a celestial body given its mass (kg) and radius (m).\"\"\"\n",
        "    G = 6.67430e-11  # Gravitational constant (m^3 kg^-1 s^-2)\n",
        "    return math.sqrt(2 * G * mass / radius)\n",
        "\n",
        "@tool\n",
        "def orbital_period(semi_major_axis: float, mass: float) -> float:\n",
        "    \"\"\"Calculate the orbital period (seconds) of an object given the semi-major axis (m) and central mass (kg).\"\"\"\n",
        "    G = 6.67430e-11  # Gravitational constant (m^3 kg^-1 s^-2)\n",
        "    return 2 * math.pi * math.sqrt(semi_major_axis**3 / (G * mass))\n",
        "\n",
        "@tool\n",
        "def luminosity(temperature: float, radius: float) -> float:\n",
        "    \"\"\"Calculate the luminosity of a star given its temperature (K) and radius (m).\"\"\"\n",
        "    sigma = 5.670374419e-8  # Stefan-Boltzmann constant (W m^-2 K^-4)\n",
        "    return 4 * math.pi * radius**2 * sigma * temperature**4\n",
        "\n",
        "@tool\n",
        "def surface_gravity(mass: float, radius: float) -> float:\n",
        "    \"\"\"Calculate the surface gravity of a celestial body given its mass (kg) and radius (m).\"\"\"\n",
        "    G = 6.67430e-11  # Gravitational constant (m^3 kg^-1 s^-2)\n",
        "    return G * mass / radius**2\n"
      ],
      "metadata": {
        "id": "_3j5kizvCxE9"
      },
      "execution_count": 17,
      "outputs": []
    },
    {
      "cell_type": "code",
      "source": [
        "# Tools collection\n",
        "tools = [calculate_escape_velocity, orbital_period, luminosity, surface_gravity]\n"
      ],
      "metadata": {
        "id": "Wy7bOSPcCzsC"
      },
      "execution_count": 18,
      "outputs": []
    },
    {
      "cell_type": "code",
      "source": [
        "# Bind tools to the LLM\n",
        "llm_with_tools = llm.bind_tools(tools)\n"
      ],
      "metadata": {
        "id": "xPwA0f9RC1rJ"
      },
      "execution_count": 19,
      "outputs": []
    },
    {
      "cell_type": "code",
      "source": [
        "from IPython.display import display\n",
        "\n",
        "# Invoke an LLM without tools\n",
        "ai_msg = llm.invoke(\"What is the luminosity of a star with a temperature of 6000 K and a radius of 7e8 meters?\")\n",
        "display(ai_msg)\n"
      ],
      "metadata": {
        "colab": {
          "base_uri": "https://localhost:8080/",
          "height": 143
        },
        "id": "aKFbIHUCC4Dz",
        "outputId": "5c5aeaaf-1847-4627-ee81-5b57ac14b488"
      },
      "execution_count": 20,
      "outputs": [
        {
          "output_type": "display_data",
          "data": {
            "text/plain": [
              "AIMessage(content=\"We can use the Stefan-Boltzmann Law to calculate the luminosity (L) of a star:\\n\\nL = 4πR²σT⁴\\n\\nWhere:\\n\\n* R is the radius of the star (7 x 10⁸ m)\\n* σ is the Stefan-Boltzmann constant (5.67 x 10⁻⁸ W m⁻² K⁻⁴)\\n* T is the surface temperature of the star (6000 K)\\n\\nLet's plug in the values:\\n\\nL = 4π (7 x 10⁸ m)² (5.67 x 10⁻⁸ W m⁻² K⁻⁴) (6000 K)⁴\\n\\nL ≈ 4π (4.9 x 10¹⁷ m²) (5.67 x 10⁻⁸ W m⁻² K⁻⁴) (1.296 x 10¹⁵ K⁴)\\n\\nL ≈ 3.8 x 10²⁶ Watts\\n\\nTherefore, the luminosity of the star is approximately **3.8 x 10²⁶ Watts**.  This is very close to the luminosity of our Sun.\", additional_kwargs={}, response_metadata={'prompt_feedback': {'block_reason': 0, 'safety_ratings': []}, 'finish_reason': 'STOP', 'safety_ratings': []}, id='run-fccd0930-d2ac-4d55-9483-f28fc7839c07-0', usage_metadata={'input_tokens': 28, 'output_tokens': 250, 'total_tokens': 278, 'input_token_details': {'cache_read': 0}})"
            ]
          },
          "metadata": {}
        }
      ]
    },
    {
      "cell_type": "code",
      "source": [
        "# Invoke an LLM with tools\n",
        "from langchain_core.messages import HumanMessage, AIMessage\n",
        "query = \"What is the escape velocity of a planet with a mass of 5.97e24 kg and a radius of 6.371e6 meters?\"\n",
        "messages = [HumanMessage(query)]\n",
        "display(messages)\n",
        "\n",
        "ai_msg_tools = llm_with_tools.invoke(messages)\n",
        "messages.append(ai_msg_tools)\n",
        "display(messages)\n",
        "\n",
        "display(ai_msg_tools)\n",
        "\n",
        "print(ai_msg_tools.tool_calls)\n"
      ],
      "metadata": {
        "colab": {
          "base_uri": "https://localhost:8080/",
          "height": 306
        },
        "id": "pdlytcuiC5-B",
        "outputId": "5a532eeb-4bc2-4f43-be91-2f26cbeba5c2"
      },
      "execution_count": 21,
      "outputs": [
        {
          "output_type": "display_data",
          "data": {
            "text/plain": [
              "[HumanMessage(content='What is the escape velocity of a planet with a mass of 5.97e24 kg and a radius of 6.371e6 meters?', additional_kwargs={}, response_metadata={})]"
            ]
          },
          "metadata": {}
        },
        {
          "output_type": "display_data",
          "data": {
            "text/plain": [
              "[HumanMessage(content='What is the escape velocity of a planet with a mass of 5.97e24 kg and a radius of 6.371e6 meters?', additional_kwargs={}, response_metadata={}),\n",
              " AIMessage(content='', additional_kwargs={'function_call': {'name': 'calculate_escape_velocity', 'arguments': '{\"radius\": 6371000.0, \"mass\": 5.97e+24}'}}, response_metadata={'prompt_feedback': {'block_reason': 0, 'safety_ratings': []}, 'finish_reason': 'STOP', 'safety_ratings': []}, id='run-930a089d-4053-4fb2-acfc-d91935627707-0', tool_calls=[{'name': 'calculate_escape_velocity', 'args': {'radius': 6371000.0, 'mass': 5.97e+24}, 'id': '249e76a2-27e6-43d7-a301-f86cd2f82bdb', 'type': 'tool_call'}], usage_metadata={'input_tokens': 296, 'output_tokens': 7, 'total_tokens': 303, 'input_token_details': {'cache_read': 0}})]"
            ]
          },
          "metadata": {}
        },
        {
          "output_type": "display_data",
          "data": {
            "text/plain": [
              "AIMessage(content='', additional_kwargs={'function_call': {'name': 'calculate_escape_velocity', 'arguments': '{\"radius\": 6371000.0, \"mass\": 5.97e+24}'}}, response_metadata={'prompt_feedback': {'block_reason': 0, 'safety_ratings': []}, 'finish_reason': 'STOP', 'safety_ratings': []}, id='run-930a089d-4053-4fb2-acfc-d91935627707-0', tool_calls=[{'name': 'calculate_escape_velocity', 'args': {'radius': 6371000.0, 'mass': 5.97e+24}, 'id': '249e76a2-27e6-43d7-a301-f86cd2f82bdb', 'type': 'tool_call'}], usage_metadata={'input_tokens': 296, 'output_tokens': 7, 'total_tokens': 303, 'input_token_details': {'cache_read': 0}})"
            ]
          },
          "metadata": {}
        },
        {
          "output_type": "stream",
          "name": "stdout",
          "text": [
            "[{'name': 'calculate_escape_velocity', 'args': {'radius': 6371000.0, 'mass': 5.97e+24}, 'id': '249e76a2-27e6-43d7-a301-f86cd2f82bdb', 'type': 'tool_call'}]\n"
          ]
        }
      ]
    },
    {
      "cell_type": "code",
      "source": [
        "# Invoke the function / tool\n",
        "for tool_call in ai_msg_tools.tool_calls:\n",
        "    selected_tool = {\n",
        "        \"calculate_escape_velocity\": calculate_escape_velocity,\n",
        "        \"orbital_period\": orbital_period,\n",
        "        \"luminosity\": luminosity,\n",
        "        \"surface_gravity\": surface_gravity\n",
        "    }[tool_call[\"name\"].lower()]\n",
        "    tool_msg = selected_tool.invoke(tool_call)\n",
        "    display(tool_msg)\n",
        "    messages.append(tool_msg)\n",
        "\n",
        "display(messages)\n",
        "\n",
        "# Invoke the LLM\n",
        "response = llm_with_tools.invoke(messages)\n"
      ],
      "metadata": {
        "colab": {
          "base_uri": "https://localhost:8080/",
          "height": 179
        },
        "id": "M6Le8s8uC8Gs",
        "outputId": "a05d6ba6-114a-42a5-b195-c382d2f2cc20"
      },
      "execution_count": 22,
      "outputs": [
        {
          "output_type": "display_data",
          "data": {
            "text/plain": [
              "ToolMessage(content='11184.104664357608', name='calculate_escape_velocity', tool_call_id='249e76a2-27e6-43d7-a301-f86cd2f82bdb')"
            ]
          },
          "metadata": {}
        },
        {
          "output_type": "display_data",
          "data": {
            "text/plain": [
              "[HumanMessage(content='What is the escape velocity of a planet with a mass of 5.97e24 kg and a radius of 6.371e6 meters?', additional_kwargs={}, response_metadata={}),\n",
              " AIMessage(content='', additional_kwargs={'function_call': {'name': 'calculate_escape_velocity', 'arguments': '{\"radius\": 6371000.0, \"mass\": 5.97e+24}'}}, response_metadata={'prompt_feedback': {'block_reason': 0, 'safety_ratings': []}, 'finish_reason': 'STOP', 'safety_ratings': []}, id='run-930a089d-4053-4fb2-acfc-d91935627707-0', tool_calls=[{'name': 'calculate_escape_velocity', 'args': {'radius': 6371000.0, 'mass': 5.97e+24}, 'id': '249e76a2-27e6-43d7-a301-f86cd2f82bdb', 'type': 'tool_call'}], usage_metadata={'input_tokens': 296, 'output_tokens': 7, 'total_tokens': 303, 'input_token_details': {'cache_read': 0}}),\n",
              " ToolMessage(content='11184.104664357608', name='calculate_escape_velocity', tool_call_id='249e76a2-27e6-43d7-a301-f86cd2f82bdb')]"
            ]
          },
          "metadata": {}
        }
      ]
    },
    {
      "cell_type": "code",
      "source": [
        "from IPython.display import Markdown\n",
        "\n",
        "Markdown(response.content)\n"
      ],
      "metadata": {
        "colab": {
          "base_uri": "https://localhost:8080/",
          "height": 46
        },
        "id": "Dp-CD4XFC-sE",
        "outputId": "ee66ee55-909c-4a04-fb4a-f266c5e7be99"
      },
      "execution_count": 23,
      "outputs": [
        {
          "output_type": "execute_result",
          "data": {
            "text/plain": [
              "<IPython.core.display.Markdown object>"
            ],
            "text/markdown": "The escape velocity is approximately 11184.1 meters per second."
          },
          "metadata": {},
          "execution_count": 23
        }
      ]
    }
  ]
}